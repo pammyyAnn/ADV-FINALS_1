{
  "nbformat": 4,
  "nbformat_minor": 0,
  "metadata": {
    "colab": {
      "provenance": [],
      "authorship_tag": "ABX9TyOR7F1t6jcIQO4ow0tlRxMA",
      "include_colab_link": true
    },
    "kernelspec": {
      "name": "python3",
      "display_name": "Python 3"
    },
    "language_info": {
      "name": "python"
    }
  },
  "cells": [
    {
      "cell_type": "markdown",
      "metadata": {
        "id": "view-in-github",
        "colab_type": "text"
      },
      "source": [
        "<a href=\"https://colab.research.google.com/github/pammyyAnn/ADV-FINALS_1/blob/main/ADV_FINALS_1.ipynb\" target=\"_parent\"><img src=\"https://colab.research.google.com/assets/colab-badge.svg\" alt=\"Open In Colab\"/></a>"
      ]
    },
    {
      "cell_type": "code",
      "execution_count": 2,
      "metadata": {
        "colab": {
          "base_uri": "https://localhost:8080/"
        },
        "id": "744XiKZOFpsU",
        "outputId": "ecc767be-52f8-4ab2-df8f-743f6bb2de27"
      },
      "outputs": [
        {
          "output_type": "stream",
          "name": "stdout",
          "text": [
            "C\n",
            "H\n",
            "I\n",
            "M\n",
            "M\n",
            "Y\n",
            "Y\n",
            "Y\n"
          ]
        }
      ],
      "source": [
        "myName = \"CHIMMYYY\" \n",
        "for x in myName: \n",
        "   print(x)\n"
      ]
    },
    {
      "cell_type": "code",
      "source": [
        "for x in range(6):\n",
        " print(x)\n",
        "else:\n",
        " print(\"Finally finished!\")"
      ],
      "metadata": {
        "colab": {
          "base_uri": "https://localhost:8080/"
        },
        "id": "_LZ7hGzRGuUS",
        "outputId": "1aea960d-c0b3-44fc-8539-7f7c2427d73a"
      },
      "execution_count": 3,
      "outputs": [
        {
          "output_type": "stream",
          "name": "stdout",
          "text": [
            "0\n",
            "1\n",
            "2\n",
            "3\n",
            "4\n",
            "5\n",
            "Finally finished!\n"
          ]
        }
      ]
    },
    {
      "cell_type": "code",
      "source": [
        "thislist = [\"PAM\", \"ANN\", \"LOU\"]\n",
        "for x in thislist:\n",
        "      print(x)"
      ],
      "metadata": {
        "colab": {
          "base_uri": "https://localhost:8080/"
        },
        "id": "gebPH77fG1bU",
        "outputId": "56f0f4bf-eb0e-4105-e06a-56d1dedfdf25"
      },
      "execution_count": 4,
      "outputs": [
        {
          "output_type": "stream",
          "name": "stdout",
          "text": [
            "PAM\n",
            "ANN\n",
            "LOU\n"
          ]
        }
      ]
    },
    {
      "cell_type": "code",
      "source": [
        "list(range(0,10))"
      ],
      "metadata": {
        "colab": {
          "base_uri": "https://localhost:8080/"
        },
        "id": "qH07prJ0HBDG",
        "outputId": "c1986c21-0550-4ab1-9458-7985196aab6f"
      },
      "execution_count": 6,
      "outputs": [
        {
          "output_type": "execute_result",
          "data": {
            "text/plain": [
              "[0, 1, 2, 3, 4, 5, 6, 7, 8, 9]"
            ]
          },
          "metadata": {},
          "execution_count": 6
        }
      ]
    },
    {
      "cell_type": "code",
      "source": [
        "dataAnalyticsTools = ['Python', 'R', 'SQL', 'Git'] \n",
        "for i in range(len(dataAnalyticsTools)): \n",
        " print(dataAnalyticsTools [ i ])"
      ],
      "metadata": {
        "colab": {
          "base_uri": "https://localhost:8080/"
        },
        "id": "SnbQ7tQrHG4b",
        "outputId": "d8f20098-849f-4caf-9ba6-bc2fa8bc3b12"
      },
      "execution_count": 7,
      "outputs": [
        {
          "output_type": "stream",
          "name": "stdout",
          "text": [
            "Python\n",
            "R\n",
            "SQL\n",
            "Git\n"
          ]
        }
      ]
    }
  ]
}